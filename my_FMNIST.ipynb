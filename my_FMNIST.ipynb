{
  "nbformat": 4,
  "nbformat_minor": 0,
  "metadata": {
    "colab": {
      "name": "my_FMNIST.ipynb",
      "version": "0.3.2",
      "provenance": [],
      "collapsed_sections": [],
      "include_colab_link": true
    },
    "kernelspec": {
      "name": "python3",
      "display_name": "Python 3"
    },
    "accelerator": "GPU"
  },
  "cells": [
    {
      "cell_type": "markdown",
      "metadata": {
        "id": "view-in-github",
        "colab_type": "text"
      },
      "source": [
        "<a href=\"https://colab.research.google.com/github/johju/dl_lab1/blob/master/my_FMNIST.ipynb\" target=\"_parent\"><img src=\"https://colab.research.google.com/assets/colab-badge.svg\" alt=\"Open In Colab\"/></a>"
      ]
    },
    {
      "metadata": {
        "id": "1IZCC5an7nMN",
        "colab_type": "code",
        "outputId": "fe0643eb-e99a-4018-ddb3-1bf2c28f3ff2",
        "colab": {
          "base_uri": "https://localhost:8080/",
          "height": 52
        }
      },
      "cell_type": "code",
      "source": [
        "# Källor:\n",
        "# https://colab.research.google.com/github/tensorflow/docs/blob/master/site/en/tutorials/keras/basic_classification.ipynb\n",
        "# https://colab.research.google.com/github/tensorflow/tpu/blob/master/tools/colab/fashion_mnist.ipynb\n",
        "# Kursboken Deep Learning with Python\n",
        "\n",
        "# TensorFlow and tf.keras\n",
        "import tensorflow as tf\n",
        "from tensorflow import keras\n",
        "from keras.utils import to_categorical\n",
        "from keras import layers\n",
        "from keras import models\n",
        "\n",
        "print(tf.__version__)"
      ],
      "execution_count": 0,
      "outputs": [
        {
          "output_type": "stream",
          "text": [
            "1.13.1\n"
          ],
          "name": "stdout"
        },
        {
          "output_type": "stream",
          "text": [
            "Using TensorFlow backend.\n"
          ],
          "name": "stderr"
        }
      ]
    },
    {
      "metadata": {
        "id": "mks_Wq2xHPKO",
        "colab_type": "code",
        "outputId": "a0b9ba72-eb63-4c8b-8740-cf656be9fdd5",
        "colab": {
          "base_uri": "https://localhost:8080/",
          "height": 158
        }
      },
      "cell_type": "code",
      "source": [
        "fashion_mnist = keras.datasets.fashion_mnist\n",
        "\n",
        "(train_images, train_labels), (test_images, test_labels) = fashion_mnist.load_data()\n",
        "\n",
        "class_names = ['T-shirt/top', 'Trouser', 'Pullover', 'Dress', 'Coat', \n",
        "               'Sandal', 'Shirt', 'Sneaker', 'Bag', 'Ankle boot']\n",
        "\n",
        "train_images = train_images.reshape((60000, 28, 28, 1))\n",
        "train_images = train_images.astype('float32') / 255\n",
        "test_images = test_images.reshape((10000, 28, 28, 1))\n",
        "test_images = test_images.astype('float32') / 255\n",
        "train_labels = to_categorical(train_labels)\n",
        "test_labels = to_categorical(test_labels)\n"
      ],
      "execution_count": 0,
      "outputs": [
        {
          "output_type": "stream",
          "text": [
            "Downloading data from https://storage.googleapis.com/tensorflow/tf-keras-datasets/train-labels-idx1-ubyte.gz\n",
            "32768/29515 [=================================] - 0s 0us/step\n",
            "Downloading data from https://storage.googleapis.com/tensorflow/tf-keras-datasets/train-images-idx3-ubyte.gz\n",
            "26427392/26421880 [==============================] - 1s 0us/step\n",
            "Downloading data from https://storage.googleapis.com/tensorflow/tf-keras-datasets/t10k-labels-idx1-ubyte.gz\n",
            "8192/5148 [===============================================] - 0s 0us/step\n",
            "Downloading data from https://storage.googleapis.com/tensorflow/tf-keras-datasets/t10k-images-idx3-ubyte.gz\n",
            "4423680/4422102 [==============================] - 0s 0us/step\n"
          ],
          "name": "stdout"
        }
      ]
    },
    {
      "metadata": {
        "id": "YP4D73dsVXCT",
        "colab_type": "code",
        "outputId": "89771f01-7d12-454d-a165-ab92eeb012d1",
        "colab": {
          "base_uri": "https://localhost:8080/",
          "height": 461
        }
      },
      "cell_type": "code",
      "source": [
        "\n",
        "# Här en model utan några större justeringar men med dropout\n",
        "# samt maxpooling för att downsampla parameters, dropout mellan dense layers för att tygla överträning\n",
        "model_one = models.Sequential()\n",
        "model_one.add(layers.Conv2D(32, (3, 3), activation='relu', input_shape=(28, 28, 1)))\n",
        "model_one.add(layers.MaxPooling2D((2, 2)))\n",
        "\n",
        "model_one.add(layers.Conv2D(64, (3, 3), activation='relu'))\n",
        "model_one.add(layers.MaxPooling2D((2, 2)))\n",
        "\n",
        "model_one.add(layers.Conv2D(128, (3, 3), activation='relu'))\n",
        "\n",
        "model_one.add(layers.Flatten())\n",
        "model_one.add(layers.Dense(128, activation='relu'))\n",
        "model_one.add(layers.Dropout(0.5))\n",
        "model_one.add(layers.Dense(10, activation='softmax'))\n",
        "\n",
        "model_one.summary()"
      ],
      "execution_count": 0,
      "outputs": [
        {
          "output_type": "stream",
          "text": [
            "_________________________________________________________________\n",
            "Layer (type)                 Output Shape              Param #   \n",
            "=================================================================\n",
            "conv2d_84 (Conv2D)           (None, 26, 26, 32)        320       \n",
            "_________________________________________________________________\n",
            "max_pooling2d_76 (MaxPooling (None, 13, 13, 32)        0         \n",
            "_________________________________________________________________\n",
            "conv2d_85 (Conv2D)           (None, 11, 11, 64)        18496     \n",
            "_________________________________________________________________\n",
            "max_pooling2d_77 (MaxPooling (None, 5, 5, 64)          0         \n",
            "_________________________________________________________________\n",
            "conv2d_86 (Conv2D)           (None, 3, 3, 128)         73856     \n",
            "_________________________________________________________________\n",
            "flatten_39 (Flatten)         (None, 1152)              0         \n",
            "_________________________________________________________________\n",
            "dense_77 (Dense)             (None, 128)               147584    \n",
            "_________________________________________________________________\n",
            "dropout_37 (Dropout)         (None, 128)               0         \n",
            "_________________________________________________________________\n",
            "dense_78 (Dense)             (None, 10)                1290      \n",
            "=================================================================\n",
            "Total params: 241,546\n",
            "Trainable params: 241,546\n",
            "Non-trainable params: 0\n",
            "_________________________________________________________________\n"
          ],
          "name": "stdout"
        }
      ]
    },
    {
      "metadata": {
        "id": "_DqKDXWtorJL",
        "colab_type": "code",
        "outputId": "833adf2a-9a54-462e-d878-a31eaf9065cd",
        "colab": {
          "base_uri": "https://localhost:8080/",
          "height": 407
        }
      },
      "cell_type": "code",
      "source": [
        "model_one.compile(\n",
        "    optimizer='adam',\n",
        "    loss='categorical_crossentropy',\n",
        "    metrics=['accuracy'])\n",
        "\n",
        "model_one.fit(train_images, train_labels, epochs=10, batch_size=256)\n",
        "\n",
        "test_loss, test_acc = model_one.evaluate(test_images, test_labels)\n",
        "\n",
        "print('model_one test accuracy:', test_acc)"
      ],
      "execution_count": 0,
      "outputs": [
        {
          "output_type": "stream",
          "text": [
            "Epoch 1/10\n",
            "60000/60000 [==============================] - 10s 163us/step - loss: 0.7485 - acc: 0.7298\n",
            "Epoch 2/10\n",
            "60000/60000 [==============================] - 4s 69us/step - loss: 0.4545 - acc: 0.8364\n",
            "Epoch 3/10\n",
            "60000/60000 [==============================] - 4s 69us/step - loss: 0.3843 - acc: 0.8636\n",
            "Epoch 4/10\n",
            "60000/60000 [==============================] - 4s 68us/step - loss: 0.3437 - acc: 0.8781\n",
            "Epoch 5/10\n",
            "60000/60000 [==============================] - 4s 69us/step - loss: 0.3136 - acc: 0.8867\n",
            "Epoch 6/10\n",
            "60000/60000 [==============================] - 4s 68us/step - loss: 0.2913 - acc: 0.8956\n",
            "Epoch 7/10\n",
            "60000/60000 [==============================] - 4s 68us/step - loss: 0.2745 - acc: 0.9015\n",
            "Epoch 8/10\n",
            "60000/60000 [==============================] - 4s 68us/step - loss: 0.2614 - acc: 0.9059\n",
            "Epoch 9/10\n",
            "60000/60000 [==============================] - 4s 68us/step - loss: 0.2485 - acc: 0.9111\n",
            "Epoch 10/10\n",
            "60000/60000 [==============================] - 4s 71us/step - loss: 0.2336 - acc: 0.9159\n",
            "10000/10000 [==============================] - 4s 399us/step\n",
            "model_one test accuracy: 0.9061\n"
          ],
          "name": "stdout"
        }
      ]
    },
    {
      "metadata": {
        "id": "nF3t3sOQmGlp",
        "colab_type": "code",
        "outputId": "8a62bc3b-f3a0-490b-b4c4-9f774feef39a",
        "colab": {
          "base_uri": "https://localhost:8080/",
          "height": 567
        }
      },
      "cell_type": "code",
      "source": [
        "\n",
        "# Den här modellen inspirerad ifrån:\n",
        "# https://colab.research.google.com/github/tensorflow/tpu/blob/master/tools/colab/fashion_mnist.ipynb\n",
        "\n",
        "# https://towardsdatascience.com/dont-use-dropout-in-convolutional-networks-81486c823c16\n",
        "# som rekommenderar BatchNormalization\n",
        "\n",
        "# samt med padding från föreläsningen om padding, strides på kurssidan.\n",
        "# Dropout mellan dense layers för att tygla överträning\n",
        "\n",
        "model_two = models.Sequential()\n",
        "\n",
        "model_two.add(layers.Conv2D(32, (3, 3), padding='same', activation='relu', input_shape=(28, 28, 1)))\n",
        "model_two.add(layers.MaxPooling2D(pool_size=(2, 2), strides=(2,2)))\n",
        "\n",
        "model_two.add(layers.BatchNormalization())\n",
        "\n",
        "model_two.add(layers.Conv2D(64, (3, 3), padding='same', activation='relu'))\n",
        "model_two.add(layers.MaxPooling2D(pool_size=(2, 2), strides=(2,2)))\n",
        "\n",
        "model_two.add(layers.BatchNormalization())\n",
        "\n",
        "model_two.add(layers.Conv2D(128, (3, 3), padding='same', activation='relu'))\n",
        "model_two.add(layers.MaxPooling2D(pool_size=(2, 2), strides=(2,2)))\n",
        "\n",
        "model_two.add(layers.Flatten())\n",
        "model_two.add(layers.Dense(128, activation='relu'))\n",
        "model_two.add(layers.Dropout(0.5))\n",
        "model_two.add(layers.Dense(10, activation='softmax'))\n",
        "\n",
        "model_two.summary()\n"
      ],
      "execution_count": 0,
      "outputs": [
        {
          "output_type": "stream",
          "text": [
            "_________________________________________________________________\n",
            "Layer (type)                 Output Shape              Param #   \n",
            "=================================================================\n",
            "conv2d_37 (Conv2D)           (None, 28, 28, 32)        320       \n",
            "_________________________________________________________________\n",
            "max_pooling2d_37 (MaxPooling (None, 14, 14, 32)        0         \n",
            "_________________________________________________________________\n",
            "batch_normalization_25 (Batc (None, 14, 14, 32)        128       \n",
            "_________________________________________________________________\n",
            "conv2d_38 (Conv2D)           (None, 14, 14, 64)        18496     \n",
            "_________________________________________________________________\n",
            "max_pooling2d_38 (MaxPooling (None, 7, 7, 64)          0         \n",
            "_________________________________________________________________\n",
            "batch_normalization_26 (Batc (None, 7, 7, 64)          256       \n",
            "_________________________________________________________________\n",
            "conv2d_39 (Conv2D)           (None, 7, 7, 128)         73856     \n",
            "_________________________________________________________________\n",
            "max_pooling2d_39 (MaxPooling (None, 3, 3, 128)         0         \n",
            "_________________________________________________________________\n",
            "flatten_15 (Flatten)         (None, 1152)              0         \n",
            "_________________________________________________________________\n",
            "dense_29 (Dense)             (None, 128)               147584    \n",
            "_________________________________________________________________\n",
            "dropout_15 (Dropout)         (None, 128)               0         \n",
            "_________________________________________________________________\n",
            "dense_30 (Dense)             (None, 10)                1290      \n",
            "=================================================================\n",
            "Total params: 241,930\n",
            "Trainable params: 241,738\n",
            "Non-trainable params: 192\n",
            "_________________________________________________________________\n"
          ],
          "name": "stdout"
        }
      ]
    },
    {
      "metadata": {
        "id": "f_dpy2_Jm4_R",
        "colab_type": "code",
        "outputId": "35a2d044-160d-4ebd-8825-2cfac51e616f",
        "colab": {
          "base_uri": "https://localhost:8080/",
          "height": 265
        }
      },
      "cell_type": "code",
      "source": [
        "\n",
        "model_two.compile(\n",
        "    optimizer='adam',\n",
        "    loss='categorical_crossentropy',\n",
        "    metrics=['accuracy'])\n",
        "\n",
        "model_two.fit(train_images, train_labels, epochs=6, batch_size=256)\n",
        "\n",
        "test_loss, test_acc = model_two.evaluate(test_images, test_labels)\n",
        "\n",
        "print('model_two test accuracy:', test_acc)\n"
      ],
      "execution_count": 0,
      "outputs": [
        {
          "output_type": "stream",
          "text": [
            "Epoch 1/6\n",
            "60000/60000 [==============================] - 7s 120us/step - loss: 0.5960 - acc: 0.7935\n",
            "Epoch 2/6\n",
            "60000/60000 [==============================] - 5s 90us/step - loss: 0.3669 - acc: 0.8713\n",
            "Epoch 3/6\n",
            "60000/60000 [==============================] - 5s 90us/step - loss: 0.3090 - acc: 0.8905\n",
            "Epoch 4/6\n",
            "60000/60000 [==============================] - 5s 90us/step - loss: 0.2768 - acc: 0.9020\n",
            "Epoch 5/6\n",
            "60000/60000 [==============================] - 5s 90us/step - loss: 0.2498 - acc: 0.9116\n",
            "Epoch 6/6\n",
            "60000/60000 [==============================] - 5s 90us/step - loss: 0.2260 - acc: 0.9184\n",
            "10000/10000 [==============================] - 2s 167us/step\n",
            "model_two test accuracy: 0.9152\n"
          ],
          "name": "stdout"
        }
      ]
    }
  ]
}